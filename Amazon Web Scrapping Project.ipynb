{
 "cells": [
  {
   "cell_type": "markdown",
   "id": "858e33d8",
   "metadata": {},
   "source": [
    "# Amazon web scrapping Project"
   ]
  },
  {
   "cell_type": "code",
   "execution_count": null,
   "id": "88ae1933",
   "metadata": {},
   "outputs": [],
   "source": [
    "# import libraries\n",
    "\n",
    "import json\n",
    "from bs4 import BeautifulSoup\n",
    "import requests\n",
    "import time\n",
    "import datetime\n",
    "import pandas as pd\n",
    "import smtplib"
   ]
  },
  {
   "cell_type": "code",
   "execution_count": null,
   "id": "d3cb660d",
   "metadata": {},
   "outputs": [],
   "source": [
    "# connect to the website\n",
    "\n",
    "#URL = 'https://www.amazon.com/Funny-Data-Systems-Business-Analyst/dp/B07FNW9FGJ/ref=sr_1_2?crid=3LBAFC29G0Z9A&keywords=data%2Banalyst%2Btshirt&qid=1703393557&sprefix=data%2Banalyst%2Btshirt%2Caps%2C307&sr=8-2'\n",
    "#headers = {\"User-Agent\": \"Mozilla/5.0 (Windows NT 10.0; Win64; x64) AppleWebKit/537.36 (KHTML, like Gecko) Chrome/120.0.0.0 Safari/537.36\", \"Accept-Encoding\": \"gzip, deflate\", \"Accept\": \"text/html,application/xhtml+xml,application/xml;q=0.9,*/*;q=0.8\", \"DNT\": \"1\", \"Connection\":\"close\", \"Upgrade-Insecure-Requests\": \"1\"}\n",
    "#page = requests.get(URL, headers=headers)\n",
    "\n",
    "#because of the restrictions on the amazon websites we decided to save the webpage as an offline file to use instead\n",
    "\n",
    "# Read the HTML file\n",
    "with open(r'C:/Users/Admin/Desktop/portfolioWeb/index2.html', 'r', encoding='utf-8') as file:\n",
    "    page_content = file.read()   \n",
    "\n",
    "    # Parse the HTML with BeautifulSoup\n",
    "soup1 = BeautifulSoup(page_content, 'html.parser')\n",
    "soup2 = BeautifulSoup(soup1.prettify(), \"html.parser\")\n",
    "\n",
    "title = soup2.find(id='productTitle').get_text()\n",
    "price = soup2.find(class_=\"a-offscreen\").get_text()\n",
    "\n",
    "print(title)\n",
    "print(price)"
   ]
  },
  {
   "cell_type": "code",
   "execution_count": null,
   "id": "019a6865",
   "metadata": {},
   "outputs": [],
   "source": [
    "#clean the data up\n",
    "price = price.strip()[1:]\n",
    "title = title.strip()\n",
    "\n",
    "print(title)\n",
    "print(price)\n",
    "type(price)"
   ]
  },
  {
   "cell_type": "code",
   "execution_count": null,
   "id": "ffe809ca",
   "metadata": {},
   "outputs": [],
   "source": [
    "import datetime\n",
    "today = datetime.date.today()\n",
    "print(today)"
   ]
  },
  {
   "cell_type": "code",
   "execution_count": null,
   "id": "a86860e6",
   "metadata": {},
   "outputs": [],
   "source": [
    "import csv\n",
    "import os\n",
    "\n",
    "# Specify the new directory path\n",
    "new_directory ='C:/Users/Admin/Desktop/portfolioWeb'\n",
    "\n",
    "# Change the default current working directory to the new directory\n",
    "os.chdir(new_directory)\n",
    "\n",
    "header = ['Title', 'Price', 'Date']\n",
    "data = [title, price, today]\n",
    "\n",
    "# Write to the CSV file in the new directory\n",
    "with open('AmazonWebScrapperDataSet1.csv', 'w', newline='', encoding='UTF8') as f:\n",
    "    writer = csv.writer(f)\n",
    "    writer.writerow(header)\n",
    "    writer.writerow(data)\n",
    "    "
   ]
  },
  {
   "cell_type": "code",
   "execution_count": null,
   "id": "ce482d0a",
   "metadata": {},
   "outputs": [],
   "source": [
    "df = pd.read_csv(r'C:\\Users\\Admin\\Desktop\\portfolioWeb\\AmazonWebScrapperDataSet1.csv')\n",
    "print(df)"
   ]
  },
  {
   "cell_type": "code",
   "execution_count": null,
   "id": "56a3e92b",
   "metadata": {},
   "outputs": [],
   "source": [
    "# appending data to the csv\n",
    "with open('C:/Users/Admin/Desktop/portfolioWeb/AmazonWebScrapperDataSet1.csv', 'a+', newline='', encoding='UTF8') as f:\n",
    "    writer = csv.writer(f)\n",
    "    writer.writerow(data)\n",
    "    "
   ]
  },
  {
   "cell_type": "code",
   "execution_count": null,
   "id": "5f1da3ad",
   "metadata": {},
   "outputs": [],
   "source": [
    "def check_price():\n",
    "    # Read the HTML file\n",
    "    with open(r'C:/Users/Admin/Desktop/portfolioWeb/index2.html', 'r', encoding='utf-8') as file:\n",
    "        page_content = file.read()   \n",
    "\n",
    "    # Parse the HTML with BeautifulSoup\n",
    "    soup1 = BeautifulSoup(page_content, 'html.parser')\n",
    "    \n",
    "    soup2 = BeautifulSoup(soup1.prettify(), \"html.parser\")\n",
    "\n",
    "    title = soup2.find(id='productTitle').get_text()\n",
    "    \n",
    "    price = soup2.find(class_=\"a-offscreen\").get_text()\n",
    "    \n",
    "    price = price.strip()[1:]\n",
    "    title = title.strip()\n",
    "    \n",
    "    import datetime\n",
    "    \n",
    "    today = datetime.date.today()\n",
    "    \n",
    "    import csv\n",
    "    \n",
    "     #import os\n",
    "\n",
    "    # Specify the new directory path\n",
    "    #new_directory ='C:/Users/Admin/Desktop/portfolioWeb'\n",
    "\n",
    "    # Change the current working directory to the new directory\n",
    "   # os.chdir(new_directory)\n",
    "\n",
    "    header = ['Title', 'Price', 'Date']\n",
    "    data = [title, price, today]\n",
    "\n",
    "    # appending data to the csv\n",
    "    with open('C:/Users/Admin/Desktop/portfolioWeb/AmazonWebScrapperDataSet1.csv', 'a+', newline='', encoding='UTF8') as f:\n",
    "        writer = csv.writer(f)\n",
    "        writer.writerow(data)\n"
   ]
  },
  {
   "cell_type": "code",
   "execution_count": null,
   "id": "9140e48f",
   "metadata": {},
   "outputs": [],
   "source": [
    "while(True):\n",
    "    check_price()\n",
    "    time.sleep(86000)"
   ]
  },
  {
   "cell_type": "code",
   "execution_count": null,
   "id": "f311f751",
   "metadata": {},
   "outputs": [],
   "source": [
    "import pandas as pd\n",
    "\n",
    "df = pd.read_csv(r'C:\\Users\\Admin\\Desktop\\portfolioWeb\\AmazonWebScrapperDataSet1.csv')\n",
    "print(df)"
   ]
  },
  {
   "cell_type": "code",
   "execution_count": null,
   "id": "3fc3264b",
   "metadata": {},
   "outputs": [],
   "source": []
  },
  {
   "cell_type": "code",
   "execution_count": null,
   "id": "72f993a9",
   "metadata": {},
   "outputs": [],
   "source": []
  }
 ],
 "metadata": {
  "kernelspec": {
   "display_name": "Python 3 (ipykernel)",
   "language": "python",
   "name": "python3"
  },
  "language_info": {
   "codemirror_mode": {
    "name": "ipython",
    "version": 3
   },
   "file_extension": ".py",
   "mimetype": "text/x-python",
   "name": "python",
   "nbconvert_exporter": "python",
   "pygments_lexer": "ipython3",
   "version": "3.11.4"
  }
 },
 "nbformat": 4,
 "nbformat_minor": 5
}
